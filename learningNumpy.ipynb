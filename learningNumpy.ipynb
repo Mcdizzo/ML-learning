{
 "cells": [
  {
   "cell_type": "markdown",
   "id": "d9acd384-540a-4f00-9986-7340589bbb2d",
   "metadata": {},
   "source": [
    "## Numpy"
   ]
  },
  {
   "cell_type": "code",
   "execution_count": 1,
   "id": "395c5343-ae33-4b4b-a824-fa9560155e65",
   "metadata": {},
   "outputs": [],
   "source": [
    "import numpy as np\n",
    "import sys"
   ]
  },
  {
   "cell_type": "code",
   "execution_count": 17,
   "id": "ddc359a7-9e30-41bf-877a-08966979bbec",
   "metadata": {},
   "outputs": [
    {
     "name": "stdout",
     "output_type": "stream",
     "text": [
      "[[1 2 3]\n",
      " [4 5 6]]\n"
     ]
    }
   ],
   "source": [
    "a = np.array([1,2,3])\n",
    "b= np.array([[1,2,3,],[4,5,6,]])\n",
    "print(b)"
   ]
  },
  {
   "cell_type": "code",
   "execution_count": 3,
   "id": "22149a0c-d0f1-4cab-982d-2760cf626620",
   "metadata": {},
   "outputs": [
    {
     "data": {
      "text/plain": [
       "2"
      ]
     },
     "execution_count": 3,
     "metadata": {},
     "output_type": "execute_result"
    }
   ],
   "source": [
    "#get dimension\n",
    "b.ndim"
   ]
  },
  {
   "cell_type": "code",
   "execution_count": 4,
   "id": "dfec8bf9-fbcd-475a-8172-70d32cf7ded7",
   "metadata": {},
   "outputs": [
    {
     "data": {
      "text/plain": [
       "(2, 3)"
      ]
     },
     "execution_count": 4,
     "metadata": {},
     "output_type": "execute_result"
    }
   ],
   "source": [
    "#get shape\n",
    "b.shape"
   ]
  },
  {
   "cell_type": "code",
   "execution_count": 5,
   "id": "bb0e8d47-f853-404f-901e-74a46fe8a844",
   "metadata": {},
   "outputs": [
    {
     "data": {
      "text/plain": [
       "dtype('int32')"
      ]
     },
     "execution_count": 5,
     "metadata": {},
     "output_type": "execute_result"
    }
   ],
   "source": [
    "#get type\n",
    "a.dtype"
   ]
  },
  {
   "cell_type": "markdown",
   "id": "8b176e92-9a98-4ec7-9120-fce5659e6c1b",
   "metadata": {},
   "source": [
    "#getting variables"
   ]
  },
  {
   "cell_type": "code",
   "execution_count": 6,
   "id": "edd971c6-80a1-41ac-96b4-527ef071945f",
   "metadata": {},
   "outputs": [
    {
     "data": {
      "text/plain": [
       "np.int64(6)"
      ]
     },
     "execution_count": 6,
     "metadata": {},
     "output_type": "execute_result"
    }
   ],
   "source": [
    "b[1,2]"
   ]
  },
  {
   "cell_type": "code",
   "execution_count": 7,
   "id": "f22c90c6-9b2c-460b-8e48-47cee809b42c",
   "metadata": {},
   "outputs": [
    {
     "data": {
      "text/plain": [
       "np.int64(1)"
      ]
     },
     "execution_count": 7,
     "metadata": {},
     "output_type": "execute_result"
    }
   ],
   "source": [
    "b[0,0]"
   ]
  },
  {
   "cell_type": "code",
   "execution_count": 19,
   "id": "6d29e670-50d4-4ed6-ab8a-615bc489208d",
   "metadata": {},
   "outputs": [
    {
     "name": "stdout",
     "output_type": "stream",
     "text": [
      "[[[1 3]\n",
      "  [3 4]]\n",
      "\n",
      " [[9 8]\n",
      "  [3 0]]]\n"
     ]
    }
   ],
   "source": [
    "b = np.array([[[1,3],[3,4]],[[9,8],[3,0]]])\n",
    "print (b)"
   ]
  },
  {
   "cell_type": "code",
   "execution_count": 20,
   "id": "c5957aa1-ea30-47ca-b0ff-a6e8d663e459",
   "metadata": {},
   "outputs": [
    {
     "data": {
      "text/plain": [
       "np.int64(4)"
      ]
     },
     "execution_count": 20,
     "metadata": {},
     "output_type": "execute_result"
    }
   ],
   "source": [
    "b[0,1,1]"
   ]
  },
  {
   "cell_type": "code",
   "execution_count": 24,
   "id": "8cb4385d-55a2-48c9-81cb-2202cc6baa6b",
   "metadata": {},
   "outputs": [
    {
     "data": {
      "text/plain": [
       "array([[3, 4],\n",
       "       [3, 0]])"
      ]
     },
     "execution_count": 24,
     "metadata": {},
     "output_type": "execute_result"
    }
   ],
   "source": [
    "b[:,1]"
   ]
  },
  {
   "cell_type": "code",
   "execution_count": 26,
   "id": "f7d28a08-68c2-4d8e-932c-c85d1c222c8d",
   "metadata": {},
   "outputs": [
    {
     "name": "stdout",
     "output_type": "stream",
     "text": [
      "[[[1 3]\n",
      "  [0 0]]\n",
      "\n",
      " [[9 8]\n",
      "  [1 1]]]\n"
     ]
    }
   ],
   "source": [
    "#replace\n",
    "b[:,1] = [[0,0],[1,1]]\n",
    "print(b)"
   ]
  }
 ],
 "metadata": {
  "kernelspec": {
   "display_name": "Python 3 (ipykernel)",
   "language": "python",
   "name": "python3"
  },
  "language_info": {
   "codemirror_mode": {
    "name": "ipython",
    "version": 3
   },
   "file_extension": ".py",
   "mimetype": "text/x-python",
   "name": "python",
   "nbconvert_exporter": "python",
   "pygments_lexer": "ipython3",
   "version": "3.12.3"
  }
 },
 "nbformat": 4,
 "nbformat_minor": 5
}
