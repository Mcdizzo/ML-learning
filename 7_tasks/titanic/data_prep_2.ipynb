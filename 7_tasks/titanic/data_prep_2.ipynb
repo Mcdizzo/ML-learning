{
 "cells": [
  {
   "cell_type": "code",
   "execution_count": 85,
   "id": "b022d5ac-9f7a-48d3-9238-4a2e0dc69d68",
   "metadata": {},
   "outputs": [],
   "source": [
    "import Titanic\n",
    "import pandas as pd\n",
    "import matplotlib.pyplot as plt\n",
    "import numpy as np\n",
    "import scipy\n",
    "from sklearn import metrics\n",
    "from sklearn.metrics import mean_absolute_error, mean_squared_error\n",
    "from sklearn.compose import make_column_transformer\n",
    "from sklearn.preprocessing import OneHotEncoder, StandardScaler\n",
    "from sklearn.model_selection import cross_val_score,train_test_split, GridSearchCV\n",
    "from sklearn.pipeline import make_pipeline\n"
   ]
  },
  {
   "cell_type": "code",
   "execution_count": 42,
   "id": "a61c1421-9f9f-4244-ae49-640d2e72085f",
   "metadata": {},
   "outputs": [],
   "source": [
    "df = pd.read_csv('test.csv')\n",
    "df['Title'] = df['Name'].str.extract(r',\\s*([^\\.]*)\\.', expand=False)\n",
    "title_mapping = {\n",
    "        'Mr': 'Mr',\n",
    "        'Mrs': 'Mrs',\n",
    "        'Miss': 'Miss',\n",
    "        'Master': 'Master',\n",
    "        'Mlle': 'Miss',     # French for Miss\n",
    "        'Ms': 'Miss',\n",
    "        'Mme': 'Mrs',       # French for Mrs\n",
    "        'Lady': 'Mrs',\n",
    "        'Countess': 'Mrs',\n",
    "        'Dona': 'Mrs',\n",
    "        'Sir': 'Mr',\n",
    "        'Jonkheer': 'Mr',\n",
    "        'Don': 'Mr',\n",
    "        'Rev': 'Mr',\n",
    "        'Dr': 'Mr',\n",
    "        'Col': 'Mr',\n",
    "        'Major': 'Mr',\n",
    "        'Capt': 'Mr'\n",
    "        }\n",
    "df['Title'] = df['Title'].map(title_mapping).fillna('Mrs')\n",
    "df['Deck'] = df['Cabin'].str[0]\n",
    "df['Deck'] = df['Deck'].replace('T', 'U')\n",
    "df['Deck'] = df['Deck'].fillna('U')\n",
    "df = df.drop(['Cabin'], axis=1)"
   ]
  },
  {
   "cell_type": "code",
   "execution_count": 46,
   "id": "c901e478-73e5-4e3f-a5a1-ae8d60afc767",
   "metadata": {},
   "outputs": [
    {
     "data": {
      "text/plain": [
       "PassengerId     0\n",
       "Pclass          0\n",
       "Name            0\n",
       "Sex             0\n",
       "Age            86\n",
       "SibSp           0\n",
       "Parch           0\n",
       "Ticket          0\n",
       "Fare            0\n",
       "Embarked        0\n",
       "Title           0\n",
       "Deck            0\n",
       "AgeGroup       86\n",
       "dtype: int64"
      ]
     },
     "execution_count": 46,
     "metadata": {},
     "output_type": "execute_result"
    }
   ],
   "source": [
    "\n",
    "df['AgeGroup'] = pd.cut(df['Age'], bins=[0, 12, 18, 35, 60, 80], labels=['Child', 'Teen', 'YoungAdult', 'Adult', 'Senior'])\n",
    "df = df.dropna(subset=['Fare'])\n",
    "df.isnull().sum()"
   ]
  },
  {
   "cell_type": "code",
   "execution_count": 80,
   "id": "74252864-b08b-4a6f-a96c-51d99098ced2",
   "metadata": {},
   "outputs": [
    {
     "data": {
      "text/plain": [
       "0      YoungAdult\n",
       "1           Adult\n",
       "2          Senior\n",
       "3      YoungAdult\n",
       "4      YoungAdult\n",
       "          ...    \n",
       "409         Child\n",
       "411         Adult\n",
       "412    YoungAdult\n",
       "414         Adult\n",
       "415         Adult\n",
       "Name: AgeGroup, Length: 331, dtype: category\n",
       "Categories (5, object): ['Child' < 'Teen' < 'YoungAdult' < 'Adult' < 'Senior']"
      ]
     },
     "execution_count": 80,
     "metadata": {},
     "output_type": "execute_result"
    }
   ],
   "source": [
    "features = ['Title']\n",
    "known = df[df['AgeGroup'].notnull()]\n",
    "unknown = df[df['AgeGroup'].isnull()]\n",
    "encode = OneHotEncoder(sparse_output = False, handle_unknown = 'ignore')\n",
    "encode.fit(df[features])\n",
    "X = encode.transform(known[['Title']])\n",
    "y = known['AgeGroup']"
   ]
  },
  {
   "cell_type": "code",
   "execution_count": 98,
   "id": "8187a93c-e0ee-4eb7-b211-5ddc7fe58f03",
   "metadata": {},
   "outputs": [
    {
     "data": {
      "text/plain": [
       "np.float64(0.5829768270944741)"
      ]
     },
     "execution_count": 98,
     "metadata": {},
     "output_type": "execute_result"
    }
   ],
   "source": [
    "from sklearn.neighbors import KNeighborsClassifier\n",
    "knn = KNeighborsClassifier(n_neighbors = 5)\n",
    "#cross_val_score(knn, X, y, cv=10, scoring='accuracy').mean()\n",
    "grid = GridSearchCV(knn, \n",
    "                    param_grid = {'n_neighbors': range(1,20),\n",
    "                                 'weights' : [\"uniform\",\"distance\"]}, \n",
    "                    cv = 10,\n",
    "                   scoring='accuracy')\n",
    "grid.fit(X,y)\n",
    "pd.DataFrame(grid.cv_results_)\n",
    "grid.best_estimator_\n",
    "grid.best_score_\n",
    "# X_train, X_test, y_train, y_test = train_test_split(X, y, test_size = 0.2, random_state=42)\n",
    "# knn.fit(X_train, y_train)\n",
    "# y_pred = knn.predict(X_test)\n",
    "# metrics.accuracy_score(y_test, y_pred)"
   ]
  },
  {
   "cell_type": "code",
   "execution_count": 111,
   "id": "3d37443a-a159-4c99-b527-4e13a5fdb0a4",
   "metadata": {},
   "outputs": [
    {
     "data": {
      "text/plain": [
       "np.float64(0.5829768270944741)"
      ]
     },
     "execution_count": 111,
     "metadata": {},
     "output_type": "execute_result"
    }
   ],
   "source": [
    "from sklearn.linear_model import LogisticRegression\n",
    "log = LogisticRegression(solver='lbfgs', random_state = 42, max_iter=1000)\n",
    "\n",
    "cross_val_score(log, X, y, cv=10, scoring='accuracy').mean()\n",
    "# grid = GridSearchCV(log, \n",
    "#                     param_grid = param_grid, \n",
    "#                     cv = 10,\n",
    "#                    scoring='accuracy')\n",
    "# grid.fit(X,y)\n",
    "# pd.DataFrame(grid.cv_results_)\n",
    "\n",
    "# X_train, X_test, y_train, y_test = train_test_split(X, y, test_size = 0.2, random_state=42)\n",
    "# knn.fit(X_train, y_train)\n",
    "# y_pred = knn.predict(X_test)\n",
    "# metrics.accuracy_score(y_test, y_pred)"
   ]
  },
  {
   "cell_type": "code",
   "execution_count": 108,
   "id": "5441d6e7-4a7a-4220-8907-1118500d2b41",
   "metadata": {},
   "outputs": [
    {
     "data": {
      "text/plain": [
       "np.float64(0.5829768270944741)"
      ]
     },
     "execution_count": 108,
     "metadata": {},
     "output_type": "execute_result"
    }
   ],
   "source": [
    "from sklearn.ensemble import RandomForestClassifier\n",
    "\n",
    "rfc = RandomForestClassifier(random_state=42)\n",
    "cross_val_score(rfc, X, y, cv=10, scoring='accuracy').mean()"
   ]
  },
  {
   "cell_type": "code",
   "execution_count": 106,
   "id": "f3254700-43a6-4aca-af68-a8d6cf1a7776",
   "metadata": {},
   "outputs": [
    {
     "data": {
      "text/plain": [
       "AgeGroup\n",
       "YoungAdult    0.522659\n",
       "Adult         0.283988\n",
       "Teen          0.087613\n",
       "Child         0.075529\n",
       "Senior        0.030211\n",
       "Name: proportion, dtype: float64"
      ]
     },
     "execution_count": 106,
     "metadata": {},
     "output_type": "execute_result"
    }
   ],
   "source": [
    "y.value_counts(normalize = True)"
   ]
  }
 ],
 "metadata": {
  "kernelspec": {
   "display_name": "Python 3 (ipykernel)",
   "language": "python",
   "name": "python3"
  },
  "language_info": {
   "codemirror_mode": {
    "name": "ipython",
    "version": 3
   },
   "file_extension": ".py",
   "mimetype": "text/x-python",
   "name": "python",
   "nbconvert_exporter": "python",
   "pygments_lexer": "ipython3",
   "version": "3.12.3"
  }
 },
 "nbformat": 4,
 "nbformat_minor": 5
}
