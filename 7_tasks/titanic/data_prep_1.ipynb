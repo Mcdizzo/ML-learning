{
 "cells": [
  {
   "cell_type": "code",
   "execution_count": 1,
   "id": "bb70ea24-9b21-4eab-a1b9-7680b0b2420e",
   "metadata": {},
   "outputs": [],
   "source": [
    "import pandas as pd\n",
    "import matplotlib.pyplot as plt\n",
    "import numpy as np\n",
    "import scipy\n",
    "from sklearn import metrics\n",
    "from sklearn.metrics import mean_absolute_error, mean_squared_error\n",
    "from sklearn.compose import make_column_transformer\n",
    "from sklearn.preprocessing import OneHotEncoder, StandardScaler\n",
    "from sklearn.model_selection import cross_val_score\n",
    "from sklearn.model_selection import train_test_split \n",
    "from sklearn.pipeline import make_pipeline\n",
    "from sklearn.linear_model import LogisticRegression\n"
   ]
  },
  {
   "cell_type": "markdown",
   "id": "01967806-a2b3-4aaa-9969-38fbfca2559c",
   "metadata": {},
   "source": [
    "## Data analysis"
   ]
  },
  {
   "cell_type": "code",
   "execution_count": 46,
   "id": "9d9e5a72-7261-4e1f-a9d0-ffc4e08b10c8",
   "metadata": {},
   "outputs": [
    {
     "data": {
      "text/html": [
       "<div>\n",
       "<style scoped>\n",
       "    .dataframe tbody tr th:only-of-type {\n",
       "        vertical-align: middle;\n",
       "    }\n",
       "\n",
       "    .dataframe tbody tr th {\n",
       "        vertical-align: top;\n",
       "    }\n",
       "\n",
       "    .dataframe thead th {\n",
       "        text-align: right;\n",
       "    }\n",
       "</style>\n",
       "<table border=\"1\" class=\"dataframe\">\n",
       "  <thead>\n",
       "    <tr style=\"text-align: right;\">\n",
       "      <th></th>\n",
       "      <th>PassengerId</th>\n",
       "      <th>Pclass</th>\n",
       "      <th>Name</th>\n",
       "      <th>Sex</th>\n",
       "      <th>Age</th>\n",
       "      <th>SibSp</th>\n",
       "      <th>Parch</th>\n",
       "      <th>Ticket</th>\n",
       "      <th>Fare</th>\n",
       "      <th>Cabin</th>\n",
       "      <th>Embarked</th>\n",
       "      <th>Title</th>\n",
       "      <th>Deck</th>\n",
       "    </tr>\n",
       "  </thead>\n",
       "  <tbody>\n",
       "    <tr>\n",
       "      <th>0</th>\n",
       "      <td>892</td>\n",
       "      <td>3</td>\n",
       "      <td>Kelly, Mr. James</td>\n",
       "      <td>male</td>\n",
       "      <td>34.5</td>\n",
       "      <td>0</td>\n",
       "      <td>0</td>\n",
       "      <td>330911</td>\n",
       "      <td>7.8292</td>\n",
       "      <td>NaN</td>\n",
       "      <td>Q</td>\n",
       "      <td>Mr</td>\n",
       "      <td>U</td>\n",
       "    </tr>\n",
       "    <tr>\n",
       "      <th>1</th>\n",
       "      <td>893</td>\n",
       "      <td>3</td>\n",
       "      <td>Wilkes, Mrs. James (Ellen Needs)</td>\n",
       "      <td>female</td>\n",
       "      <td>47.0</td>\n",
       "      <td>1</td>\n",
       "      <td>0</td>\n",
       "      <td>363272</td>\n",
       "      <td>7.0000</td>\n",
       "      <td>NaN</td>\n",
       "      <td>S</td>\n",
       "      <td>Mrs</td>\n",
       "      <td>U</td>\n",
       "    </tr>\n",
       "    <tr>\n",
       "      <th>2</th>\n",
       "      <td>894</td>\n",
       "      <td>2</td>\n",
       "      <td>Myles, Mr. Thomas Francis</td>\n",
       "      <td>male</td>\n",
       "      <td>62.0</td>\n",
       "      <td>0</td>\n",
       "      <td>0</td>\n",
       "      <td>240276</td>\n",
       "      <td>9.6875</td>\n",
       "      <td>NaN</td>\n",
       "      <td>Q</td>\n",
       "      <td>Mr</td>\n",
       "      <td>U</td>\n",
       "    </tr>\n",
       "    <tr>\n",
       "      <th>3</th>\n",
       "      <td>895</td>\n",
       "      <td>3</td>\n",
       "      <td>Wirz, Mr. Albert</td>\n",
       "      <td>male</td>\n",
       "      <td>27.0</td>\n",
       "      <td>0</td>\n",
       "      <td>0</td>\n",
       "      <td>315154</td>\n",
       "      <td>8.6625</td>\n",
       "      <td>NaN</td>\n",
       "      <td>S</td>\n",
       "      <td>Mr</td>\n",
       "      <td>U</td>\n",
       "    </tr>\n",
       "    <tr>\n",
       "      <th>4</th>\n",
       "      <td>896</td>\n",
       "      <td>3</td>\n",
       "      <td>Hirvonen, Mrs. Alexander (Helga E Lindqvist)</td>\n",
       "      <td>female</td>\n",
       "      <td>22.0</td>\n",
       "      <td>1</td>\n",
       "      <td>1</td>\n",
       "      <td>3101298</td>\n",
       "      <td>12.2875</td>\n",
       "      <td>NaN</td>\n",
       "      <td>S</td>\n",
       "      <td>Mrs</td>\n",
       "      <td>U</td>\n",
       "    </tr>\n",
       "  </tbody>\n",
       "</table>\n",
       "</div>"
      ],
      "text/plain": [
       "   PassengerId  Pclass                                          Name     Sex  \\\n",
       "0          892       3                              Kelly, Mr. James    male   \n",
       "1          893       3              Wilkes, Mrs. James (Ellen Needs)  female   \n",
       "2          894       2                     Myles, Mr. Thomas Francis    male   \n",
       "3          895       3                              Wirz, Mr. Albert    male   \n",
       "4          896       3  Hirvonen, Mrs. Alexander (Helga E Lindqvist)  female   \n",
       "\n",
       "    Age  SibSp  Parch   Ticket     Fare Cabin Embarked Title Deck  \n",
       "0  34.5      0      0   330911   7.8292   NaN        Q    Mr    U  \n",
       "1  47.0      1      0   363272   7.0000   NaN        S   Mrs    U  \n",
       "2  62.0      0      0   240276   9.6875   NaN        Q    Mr    U  \n",
       "3  27.0      0      0   315154   8.6625   NaN        S    Mr    U  \n",
       "4  22.0      1      1  3101298  12.2875   NaN        S   Mrs    U  "
      ]
     },
     "execution_count": 46,
     "metadata": {},
     "output_type": "execute_result"
    }
   ],
   "source": [
    "df = pd.read_csv('test.csv')\n",
    "#df = pd.read_csv('test.csv')\n",
    "#print(df.isna().sum())\n",
    "\n",
    "df['Embarked'] = df['Embarked'].fillna('S')\n",
    "df['Title'] = df['Name'].str.extract(r',\\s*([^\\.]*)\\.', expand=False)\n",
    "title_mapping = {\n",
    "    'Mr': 'Mr',\n",
    "    'Mrs': 'Mrs',\n",
    "    'Miss': 'Miss',\n",
    "    'Master': 'Master',\n",
    "    'Mlle': 'Miss',     # French for Miss\n",
    "    'Ms': 'Miss',\n",
    "    'Mme': 'Mrs',       # French for Mrs\n",
    "    'Lady': 'Mrs',\n",
    "    'Countess': 'Mrs',\n",
    "    'Dona': 'Mrs',\n",
    "    'Sir': 'Mr',\n",
    "    'Jonkheer': 'Mr',\n",
    "    'Don': 'Mr',\n",
    "    'Rev': 'Mr',\n",
    "    'Dr': 'Mr',\n",
    "    'Col': 'Mr',\n",
    "    'Major': 'Mr',\n",
    "    'Capt': 'Mr'\n",
    "}\n",
    "df['Title'] = df['Title'].map(title_mapping).fillna('Mrs')\n",
    "df['Deck'] = df['Cabin'].str[0]\n",
    "df['Deck'] = df['Deck'].replace('T', 'U')\n",
    "df['Deck'] = df['Deck'].fillna('U')\n",
    "df = df.drop(['Cabin'], axis=1)"
   ]
  },
  {
   "cell_type": "code",
   "execution_count": null,
   "id": "4a38458e-9b67-46ab-8c4e-a00a81e7d6f6",
   "metadata": {},
   "outputs": [],
   "source": [
    "\n"
   ]
  },
  {
   "cell_type": "code",
   "execution_count": 52,
   "id": "dd35093f-c802-40da-b1e8-95160d82ecb8",
   "metadata": {},
   "outputs": [
    {
     "name": "stdout",
     "output_type": "stream",
     "text": [
      "(332, 11)\n",
      "(86, 11)\n"
     ]
    },
    {
     "data": {
      "text/html": [
       "<div>\n",
       "<style scoped>\n",
       "    .dataframe tbody tr th:only-of-type {\n",
       "        vertical-align: middle;\n",
       "    }\n",
       "\n",
       "    .dataframe tbody tr th {\n",
       "        vertical-align: top;\n",
       "    }\n",
       "\n",
       "    .dataframe thead th {\n",
       "        text-align: right;\n",
       "    }\n",
       "</style>\n",
       "<table border=\"1\" class=\"dataframe\">\n",
       "  <thead>\n",
       "    <tr style=\"text-align: right;\">\n",
       "      <th></th>\n",
       "      <th>PassengerId</th>\n",
       "      <th>Pclass</th>\n",
       "      <th>Sex</th>\n",
       "      <th>SibSp</th>\n",
       "      <th>Parch</th>\n",
       "      <th>Ticket</th>\n",
       "      <th>Fare</th>\n",
       "      <th>Cabin</th>\n",
       "      <th>Embarked</th>\n",
       "      <th>Title</th>\n",
       "      <th>Deck</th>\n",
       "    </tr>\n",
       "  </thead>\n",
       "  <tbody>\n",
       "    <tr>\n",
       "      <th>0</th>\n",
       "      <td>892</td>\n",
       "      <td>3</td>\n",
       "      <td>male</td>\n",
       "      <td>0</td>\n",
       "      <td>0</td>\n",
       "      <td>330911</td>\n",
       "      <td>7.8292</td>\n",
       "      <td>NaN</td>\n",
       "      <td>Q</td>\n",
       "      <td>Mr</td>\n",
       "      <td>U</td>\n",
       "    </tr>\n",
       "    <tr>\n",
       "      <th>1</th>\n",
       "      <td>893</td>\n",
       "      <td>3</td>\n",
       "      <td>female</td>\n",
       "      <td>1</td>\n",
       "      <td>0</td>\n",
       "      <td>363272</td>\n",
       "      <td>7.0000</td>\n",
       "      <td>NaN</td>\n",
       "      <td>S</td>\n",
       "      <td>Mrs</td>\n",
       "      <td>U</td>\n",
       "    </tr>\n",
       "    <tr>\n",
       "      <th>2</th>\n",
       "      <td>894</td>\n",
       "      <td>2</td>\n",
       "      <td>male</td>\n",
       "      <td>0</td>\n",
       "      <td>0</td>\n",
       "      <td>240276</td>\n",
       "      <td>9.6875</td>\n",
       "      <td>NaN</td>\n",
       "      <td>Q</td>\n",
       "      <td>Mr</td>\n",
       "      <td>U</td>\n",
       "    </tr>\n",
       "    <tr>\n",
       "      <th>3</th>\n",
       "      <td>895</td>\n",
       "      <td>3</td>\n",
       "      <td>male</td>\n",
       "      <td>0</td>\n",
       "      <td>0</td>\n",
       "      <td>315154</td>\n",
       "      <td>8.6625</td>\n",
       "      <td>NaN</td>\n",
       "      <td>S</td>\n",
       "      <td>Mr</td>\n",
       "      <td>U</td>\n",
       "    </tr>\n",
       "    <tr>\n",
       "      <th>4</th>\n",
       "      <td>896</td>\n",
       "      <td>3</td>\n",
       "      <td>female</td>\n",
       "      <td>1</td>\n",
       "      <td>1</td>\n",
       "      <td>3101298</td>\n",
       "      <td>12.2875</td>\n",
       "      <td>NaN</td>\n",
       "      <td>S</td>\n",
       "      <td>Mrs</td>\n",
       "      <td>U</td>\n",
       "    </tr>\n",
       "  </tbody>\n",
       "</table>\n",
       "</div>"
      ],
      "text/plain": [
       "   PassengerId  Pclass     Sex  SibSp  Parch   Ticket     Fare Cabin Embarked  \\\n",
       "0          892       3    male      0      0   330911   7.8292   NaN        Q   \n",
       "1          893       3  female      1      0   363272   7.0000   NaN        S   \n",
       "2          894       2    male      0      0   240276   9.6875   NaN        Q   \n",
       "3          895       3    male      0      0   315154   8.6625   NaN        S   \n",
       "4          896       3  female      1      1  3101298  12.2875   NaN        S   \n",
       "\n",
       "  Title Deck  \n",
       "0    Mr    U  \n",
       "1   Mrs    U  \n",
       "2    Mr    U  \n",
       "3    Mr    U  \n",
       "4   Mrs    U  "
      ]
     },
     "execution_count": 52,
     "metadata": {},
     "output_type": "execute_result"
    }
   ],
   "source": [
    "known_age = df[df['Age'].notnull()]\n",
    "y_known = known_age['Age']\n",
    "known_age = known_age.drop(columns=['Name', 'Age'])\n",
    "unknown_age = df[df['Age'].isnull()]\n",
    "unknown_age = unknown_age.drop(columns=['Name', 'Age'])\n",
    "print(known_age.shape)\n",
    "print(unknown_age.shape)\n",
    "known_age.head()"
   ]
  },
  {
   "cell_type": "code",
   "execution_count": 55,
   "id": "3eb997a7-0b20-4c0d-8409-bdf198cbfbc4",
   "metadata": {},
   "outputs": [],
   "source": [
    "features = ['Pclass','Sex','SibSp','Parch','Ticket','Embarked','Fare','Title','Deck']\n",
    "numerical = ['SibSp','Parch','Fare']\n",
    "categorical = ['Pclass', 'Sex', 'Embarked','Title','Deck']\n",
    "column_transformer = make_column_transformer(\n",
    "    (OneHotEncoder(sparse_output=False),categorical), \n",
    "    (StandardScaler(), numerical),\n",
    "    remainder = 'passthrough')"
   ]
  },
  {
   "cell_type": "code",
   "execution_count": 57,
   "id": "631d6821-eb99-464d-8d49-96e566385751",
   "metadata": {},
   "outputs": [
    {
     "name": "stdout",
     "output_type": "stream",
     "text": [
      "(86, 24)\n",
      "(332, 24)\n"
     ]
    }
   ],
   "source": [
    "column_transformer.fit(known_age[features])\n",
    "X_known = column_transformer.transform(known_age[features])\n",
    "X_missing = column_transformer.transform(unknown_age[features])\n",
    "print(X_missing.shape)\n",
    "print(X_known.shape)"
   ]
  },
  {
   "cell_type": "markdown",
   "id": "db9a5e1f-7e92-4754-a429-7ed0021bd22c",
   "metadata": {},
   "source": [
    "### using linear regression to fill the age null values "
   ]
  },
  {
   "cell_type": "code",
   "execution_count": 28,
   "id": "1df5d119-3ab6-4413-adc4-a88d3c39126e",
   "metadata": {},
   "outputs": [],
   "source": [
    "from sklearn.linear_model import LinearRegression\n",
    "#making and fitting the model \n",
    "lg = LinearRegression(positive=True)\n",
    "\n",
    "\n"
   ]
  },
  {
   "cell_type": "code",
   "execution_count": 29,
   "id": "3d0f6e2c-e4f1-4207-a012-9ef8812532b8",
   "metadata": {},
   "outputs": [
    {
     "data": {
      "image/png": "[encoded data removed]",
      "text/plain": [
       "<Figure size 640x480 with 1 Axes>"
      ]
     },
     "metadata": {},
     "output_type": "display_data"
    }
   ],
   "source": [
    "error = []\n",
    "seeds = range(1,50)\n",
    "for seed in seeds:\n",
    "    X_train, X_test, y_train, y_test = train_test_split(X_known, y_known, test_size=0.1, random_state = seed)\n",
    "    lg.fit(X_train, y_train)\n",
    "    #making the prediction\n",
    "    y_pred = lg.predict(X_test)\n",
    "    error.append(mean_absolute_error(y_test, y_pred))\n",
    "\n",
    "plt.plot(seeds, error)\n",
    "plt.show()"
   ]
  },
  {
   "cell_type": "code",
   "execution_count": 30,
   "id": "16dce019-3ac0-450c-9c60-cc421c7cd511",
   "metadata": {},
   "outputs": [
    {
     "name": "stdout",
     "output_type": "stream",
     "text": [
      "10.129345586438562\n",
      "7.612073470710857\n"
     ]
    }
   ],
   "source": [
    "#split the data using random_state = 2\n",
    "X_train, X_test, y_train, y_test = train_test_split(X_known, y_known, test_size=0.1, random_state = 2)\n",
    "\n",
    "lg.fit(X_train, y_train)\n",
    "#making the prediction\n",
    "y_pred = lg.predict(X_test)\n",
    "#testing accuracy by finding mean absolute error\n",
    "MAE = mean_absolute_error(y_test, y_pred)\n",
    "rmse = np.sqrt(mean_squared_error(y_test, y_pred))\n",
    "print(rmse)\n",
    "print(MAE)"
   ]
  },
  {
   "cell_type": "markdown",
   "id": "b691f3b4-0a71-4c4e-ae63-20ce28545e95",
   "metadata": {},
   "source": [
    "### Using random forest regressor"
   ]
  },
  {
   "cell_type": "code",
   "execution_count": 31,
   "id": "40e4d392-f4f1-4fc0-85bd-fe0d6d7a318f",
   "metadata": {},
   "outputs": [],
   "source": [
    "from sklearn.ensemble import RandomForestRegressor"
   ]
  },
  {
   "cell_type": "code",
   "execution_count": 10,
   "id": "c8566c76-850b-49cc-b036-be6a3365a418",
   "metadata": {},
   "outputs": [],
   "source": [
    "# error = []\n",
    "# seeds = range(1,30)\n",
    "# for seed in seeds:\n",
    "#     rfr = RandomForestRegressor(random_state=seed)\n",
    "#     X_train, X_test, y_train, y_test = train_test_split(X_known, y_known, test_size=0.2, random_state = 2)\n",
    "#     rfr.fit(X_train, y_train)\n",
    "#     y_pred = rfr.predict(X_test) \n",
    "#     error.append(np.sqrt(mean_squared_error(y_test, y_pred)))\n",
    "\n",
    "# plt.plot(seeds, error)\n",
    "# plt.ylabel('MSE')\n",
    "# plt.xlabel('seeds')\n",
    "# plt.show()"
   ]
  },
  {
   "cell_type": "code",
   "execution_count": 32,
   "id": "f469c40b-cc5e-48b4-a065-1e1b2219e30a",
   "metadata": {},
   "outputs": [
    {
     "data": {
      "text/plain": [
       "np.float64(11.513647417233434)"
      ]
     },
     "execution_count": 32,
     "metadata": {},
     "output_type": "execute_result"
    }
   ],
   "source": [
    "rfr = RandomForestRegressor(\n",
    "    random_state=6\n",
    ")\n",
    "X_train, X_test, y_train, y_test = train_test_split(X_known, y_known, test_size=0.2, random_state = 5)\n",
    "rfr.fit(X_train, y_train)\n",
    "y_pred = rfr.predict(X_test)\n",
    "MAE = np.sqrt(mean_squared_error(y_test, y_pred))\n",
    "MAE"
   ]
  },
  {
   "cell_type": "markdown",
   "id": "fc2897e0-7b9a-40d9-a076-ea16c1eb2619",
   "metadata": {},
   "source": [
    "### comparing with a naive model"
   ]
  },
  {
   "cell_type": "code",
   "execution_count": 45,
   "id": "f8966185-434f-4c11-82e5-1b0a711a3cb7",
   "metadata": {},
   "outputs": [
    {
     "data": {
      "text/plain": [
       "np.float64(14.43808906018971)"
      ]
     },
     "execution_count": 45,
     "metadata": {},
     "output_type": "execute_result"
    }
   ],
   "source": [
    "median_age = known_age['Age'].median()\n",
    "baseline_preds = [median_age] * len(known_age)\n",
    "baseline_rmse = np.sqrt(mean_squared_error(y_known, baseline_preds))\n",
    "baseline_rmse"
   ]
  },
  {
   "cell_type": "markdown",
   "id": "4ddb1abd-7e91-4c1a-b9ac-f4fd06e295cc",
   "metadata": {},
   "source": [
    "### use the random forest regressor to determine the missing ages"
   ]
  },
  {
   "cell_type": "code",
   "execution_count": 35,
   "id": "d61a75dd-aca4-4a06-8675-deb1c72c7a0e",
   "metadata": {},
   "outputs": [],
   "source": [
    "#predicting missing null values in the age column\n",
    "predicted_ages = rfr.predict(X_missing)\n",
    "predicted_ages\n",
    "ndf.loc[df['Age'].isnull(), 'Age'] = predicted_ages"
   ]
  },
  {
   "cell_type": "code",
   "execution_count": 36,
   "id": "6330a10f-1166-408c-8f60-ca6d1fcf3195",
   "metadata": {},
   "outputs": [
    {
     "data": {
      "text/plain": [
       "PassengerId    0\n",
       "Pclass         0\n",
       "Name           0\n",
       "Sex            0\n",
       "Age            0\n",
       "SibSp          0\n",
       "Parch          0\n",
       "Ticket         0\n",
       "Fare           0\n",
       "Embarked       0\n",
       "Title          0\n",
       "Deck           0\n",
       "dtype: int64"
      ]
     },
     "execution_count": 36,
     "metadata": {},
     "output_type": "execute_result"
    }
   ],
   "source": [
    "ndf.isna().sum()"
   ]
  },
  {
   "cell_type": "markdown",
   "id": "73b13e20-9837-4d4c-aa34-5400ec0c670a",
   "metadata": {
    "jp-MarkdownHeadingCollapsed": true
   },
   "source": [
    "### determining if age is a good factor."
   ]
  },
  {
   "cell_type": "code",
   "execution_count": null,
   "id": "96b9a8a7-bc3f-4428-a071-81b91e329a3b",
   "metadata": {},
   "outputs": [],
   "source": [
    "survived_females = df.loc[(df['Survived'] == 1) & (df['Sex'] == 'female')]\n",
    "\n",
    "counts, bins, patches = plt.hist(survived_females['Age'])\n",
    "plt.xticks(bins)\n",
    "plt.xlabel('Age range')\n",
    "plt.ylabel('Number of females survived')\n",
    "plt.title('Survival rate of females according to their age')\n",
    "plt.show()\n"
   ]
  },
  {
   "cell_type": "code",
   "execution_count": null,
   "id": "38718683-55f9-46ff-83a5-f698033dded8",
   "metadata": {},
   "outputs": [],
   "source": [
    "survived_males = df.loc[(df['Survived'] == 1) & (df['Sex'] == 'male')]\n",
    "\n",
    "counts, bins, patches = plt.hist(survived_males['Age'])\n",
    "plt.xticks(bins)\n",
    "plt.xlabel('Age range')\n",
    "plt.ylabel('Number of males survived')\n",
    "plt.title('Survival rate of males according to their age')\n",
    "plt.show()\n"
   ]
  },
  {
   "cell_type": "markdown",
   "id": "c258c826-c690-4d47-b727-c5ba1d6cf1b5",
   "metadata": {},
   "source": [
    "####  it is clear that teens and middle aged females (13-38) had the highest probability of survival while only middle aged males (24-32) had a higher chance of survival, overall males were at a disadvantage. "
   ]
  },
  {
   "cell_type": "markdown",
   "id": "ba40608d-f022-4f40-b4ab-51f69d9247fc",
   "metadata": {},
   "source": [
    "## Data preping"
   ]
  },
  {
   "cell_type": "code",
   "execution_count": 37,
   "id": "01a50f19-72a8-4d9d-b735-de13c2b6475c",
   "metadata": {},
   "outputs": [
    {
     "data": {
      "text/plain": [
       "PassengerId    0\n",
       "Pclass         0\n",
       "Name           0\n",
       "Sex            0\n",
       "Age            0\n",
       "SibSp          0\n",
       "Parch          0\n",
       "Ticket         0\n",
       "Fare           0\n",
       "Embarked       0\n",
       "Title          0\n",
       "Deck           0\n",
       "AgeGroup       0\n",
       "dtype: int64"
      ]
     },
     "execution_count": 37,
     "metadata": {},
     "output_type": "execute_result"
    }
   ],
   "source": [
    "\n",
    "ndf['AgeGroup'] = pd.cut(ndf['Age'], bins=[0, 12, 18, 35, 60, 80], labels=['Child', 'Teen', 'YoungAdult', 'Adult', 'Senior'])\n",
    "ndf.head()\n",
    "ndf.isna().sum()"
   ]
  },
  {
   "cell_type": "code",
   "execution_count": 19,
   "id": "2b576853-a797-4372-bf1a-58fbf12c7829",
   "metadata": {},
   "outputs": [
    {
     "data": {
      "text/plain": [
       "0.8212290502793296"
      ]
     },
     "execution_count": 19,
     "metadata": {},
     "output_type": "execute_result"
    }
   ],
   "source": [
    "\n",
    "log = LogisticRegression(solver='lbfgs')\n",
    "features = ['Pclass','Sex','Age','SibSp','Parch','Embarked','Fare','Title','Deck']\n",
    "numerical = ['SibSp','Parch','Age','Fare']\n",
    "categorical = ['Pclass', 'Sex', 'Embarked','Title','Deck']\n",
    "X = ndf[features]\n",
    "y = ndf['Survived']\n",
    "prep = make_column_transformer(\n",
    "    (OneHotEncoder(handle_unknown = 'ignore', sparse_output=False),categorical), \n",
    "    (StandardScaler(), numerical),\n",
    "    remainder = 'passthrough')\n",
    "model = make_pipeline(prep, log)\n",
    "X_train, X_test, y_train, y_test = train_test_split(X, y, test_size = 0.2, random_state=24)\n",
    "\n",
    "model.fit(X_train,y_train)\n",
    "y_pred = model.predict(X_test)\n",
    "metrics.accuracy_score(y_test,y_pred)"
   ]
  },
  {
   "cell_type": "code",
   "execution_count": null,
   "id": "1b7e02eb-bfb7-47a7-b26b-99659d646601",
   "metadata": {},
   "outputs": [],
   "source": [
    "model = Titanic.TitanicModel()\n",
    "model.fit(ndf)\n",
    "y_pred = model.predict()\n",
    "model.score()"
   ]
  },
  {
   "cell_type": "code",
   "execution_count": null,
   "id": "ef3a1a96-a056-4402-9de1-f51886620391",
   "metadata": {},
   "outputs": [],
   "source": [
    "y.value_counts(normalize=True)"
   ]
  },
  {
   "cell_type": "code",
   "execution_count": 44,
   "id": "f9a4fd1e-a1bf-49b1-bf14-5f473f65afab",
   "metadata": {},
   "outputs": [
    {
     "data": {
      "text/plain": [
       "['Pclass', 'Sex', 'SibSp', 'Parch', 'Embarked', 'Fare', 'Title', 'Deck']"
      ]
     },
     "execution_count": 44,
     "metadata": {},
     "output_type": "execute_result"
    }
   ],
   "source": [
    "features"
   ]
  }
 ],
 "metadata": {
  "kernelspec": {
   "display_name": "Python 3 (ipykernel)",
   "language": "python",
   "name": "python3"
  },
  "language_info": {
   "codemirror_mode": {
    "name": "ipython",
    "version": 3
   },
   "file_extension": ".py",
   "mimetype": "text/x-python",
   "name": "python",
   "nbconvert_exporter": "python",
   "pygments_lexer": "ipython3",
   "version": "3.12.3"
  }
 },
 "nbformat": 4,
 "nbformat_minor": 5
}
